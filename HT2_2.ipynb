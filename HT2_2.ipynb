{
 "cells": [
  {
   "cell_type": "code",
   "execution_count": 196,
   "id": "7b023363-d5f7-4ebd-8511-fd4e5e5c681a",
   "metadata": {},
   "outputs": [
    {
     "name": "stdout",
     "output_type": "stream",
     "text": [
      "{98, 35, 15, 213, 54, 119}\n"
     ]
    }
   ],
   "source": [
    "ids = {'user1': [213, 213, 213, 15, 213],\n",
    "'user2': [54, 54, 119, 119, 119],\n",
    "'user3': [213, 98, 98, 35]}\n",
    "\n",
    "output = set()\n",
    "for key in ids:\n",
    "    for value in ids[key]:\n",
    "        output.add(value)\n",
    "print(str(output))\n",
    "        \n"
   ]
  },
  {
   "cell_type": "code",
   "execution_count": 194,
   "id": "9a96a60d-f0a1-4b24-bb77-7b7af55c2ebc",
   "metadata": {},
   "outputs": [
    {
     "name": "stdout",
     "output_type": "stream",
     "text": [
      "Поисковых запросов, содержащих 2 слов(а): 42.86%\n",
      "Поисковых запросов, содержащих 3 слов(а): 57.14%\n"
     ]
    }
   ],
   "source": [
    " queries = [\n",
    " 'смотреть сериалы онлайн',\n",
    " 'новости спорта',\n",
    " 'афиша кино',\n",
    " 'курс доллара',\n",
    " 'сериалы этим летом',\n",
    " 'курс по питону',\n",
    " 'сериалы про спорт',\n",
    " ]\n",
    "\n",
    "words_amount = []\n",
    "\n",
    "for strin in queries:\n",
    "    words_amount.append(len(strin.split()))\n",
    "    \n",
    "unic_values = []\n",
    "for amount in words_amount:\n",
    "    if amount not in unic_values:\n",
    "        unic_values.append(amount)\n",
    "unic_values = sorted(unic_values)\n",
    "\n",
    "for value in unic_values:\n",
    "    print('Поисковых запросов, содержащих ' + str(value) + ' слов(а): '\n",
    "          + str(round(words_amount.count(value)/len(words_amount)*100, 2)) + '%')"
   ]
  },
  {
   "cell_type": "code",
   "execution_count": null,
   "id": "8f926fe3-a5c3-4257-a1ec-5796c9be536f",
   "metadata": {},
   "outputs": [],
   "source": []
  }
 ],
 "metadata": {
  "kernelspec": {
   "display_name": "Python 3 (ipykernel)",
   "language": "python",
   "name": "python3"
  },
  "language_info": {
   "codemirror_mode": {
    "name": "ipython",
    "version": 3
   },
   "file_extension": ".py",
   "mimetype": "text/x-python",
   "name": "python",
   "nbconvert_exporter": "python",
   "pygments_lexer": "ipython3",
   "version": "3.12.7"
  }
 },
 "nbformat": 4,
 "nbformat_minor": 5
}
