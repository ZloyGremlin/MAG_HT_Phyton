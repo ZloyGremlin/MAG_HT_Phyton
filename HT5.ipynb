{
 "cells": [
  {
   "cell_type": "code",
   "execution_count": 9,
   "metadata": {},
   "outputs": [],
   "source": [
    "import datetime"
   ]
  },
  {
   "cell_type": "code",
   "execution_count": 10,
   "metadata": {},
   "outputs": [
    {
     "name": "stdout",
     "output_type": "stream",
     "text": [
      "From string to object\n",
      "\n",
      "2002-10-02\n",
      "2013-10-11\n",
      "1977-08-18\n",
      "\n",
      "From onject to string\n",
      "\n",
      "The Moscow Times - Wednesday, October 02, 2002\n",
      "The Guardian - Friday, 11.10.13\n",
      "Daily News - Thursday, 18 August 1977\n"
     ]
    }
   ],
   "source": [
    "date_1 =  \"The Moscow Times - Wednesday, October 2, 2002\"\n",
    "date_2 = \"The Guardian - Friday, 11.10.13\"\n",
    "date_3 = \"Daily News - Thursday, 18 August 1977\"\n",
    "\n",
    "print(\"From string to object\\n\")\n",
    "\n",
    "time_obj_1 = datetime.datetime.strptime(date_1, 'The Moscow Times - %A, %B %d, %Y').date()\n",
    "time_obj_2 = datetime.datetime.strptime(date_2, 'The Guardian - %A, %d.%m.%y').date()\n",
    "time_obj_3 = datetime.datetime.strptime(date_3, 'Daily News - %A, %d %B %Y').date()\n",
    "\n",
    "print(time_obj_1)\n",
    "print(time_obj_2)\n",
    "print(time_obj_3)\n",
    "\n",
    "print(\"\\nFrom onject to string\\n\")\n",
    "\n",
    "str_date_1 = time_obj_1.strftime('The Moscow Times - %A, %B %d, %Y')\n",
    "str_date_2 = time_obj_2.strftime('The Guardian - %A, %d.%m.%y')\n",
    "str_date_3 = time_obj_3.strftime('Daily News - %A, %d %B %Y')\n",
    "\n",
    "print(str_date_1)\n",
    "print(str_date_2)\n",
    "print(str_date_3)"
   ]
  },
  {
   "cell_type": "code",
   "execution_count": 11,
   "metadata": {},
   "outputs": [
    {
     "name": "stdout",
     "output_type": "stream",
     "text": [
      "['2022-01-01', '2022-01-02', '2022-01-03']\n",
      "[]\n",
      "[]\n"
     ]
    }
   ],
   "source": [
    "def date_range(start_date, end_date):\n",
    "    date_list = []\n",
    "    \n",
    "    try:\n",
    "        start_date = datetime.datetime.strptime(start_date, '%Y-%m-%d').date()\n",
    "        end_date = datetime.datetime.strptime(end_date,'%Y-%m-%d').date()\n",
    "        delta_date = end_date - start_date\n",
    "    except: return date_list\n",
    "    \n",
    "    if (delta_date.days <= 0):\n",
    "        return date_list\n",
    "    \n",
    "    for n in range(delta_date.days + 1):\n",
    "        date_list.append(str(start_date + datetime.timedelta(n)))\n",
    "    return date_list\n",
    "\n",
    "print(date_range('2022-01-01', '2022-01-03'))\n",
    "print(date_range('2022-01-02', '2022-01-01'))\n",
    "print(date_range('2022-02-30', '2022-02-31'))"
   ]
  }
 ],
 "metadata": {
  "kernelspec": {
   "display_name": "base",
   "language": "python",
   "name": "python3"
  },
  "language_info": {
   "codemirror_mode": {
    "name": "ipython",
    "version": 3
   },
   "file_extension": ".py",
   "mimetype": "text/x-python",
   "name": "python",
   "nbconvert_exporter": "python",
   "pygments_lexer": "ipython3",
   "version": "3.12.7"
  }
 },
 "nbformat": 4,
 "nbformat_minor": 2
}
