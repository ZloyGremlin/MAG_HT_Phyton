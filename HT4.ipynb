{
 "cells": [
  {
   "cell_type": "code",
   "execution_count": 5,
   "id": "680fb2cd-f530-47a9-88cb-4d0e9f1e2773",
   "metadata": {},
   "outputs": [
    {
     "name": "stdout",
     "output_type": "stream",
     "text": [
      "{'1840e0b9d4': 'Продукты', '4e4f90fcfb': 'Электроника'}\n"
     ]
    }
   ],
   "source": [
    "file = open('purchase_log.txt', 'r')\n",
    "text_from_file = file.readlines()\n",
    "file.close()\n",
    "\n",
    "purchases = {}\n",
    "\n",
    "for text_line in text_from_file:\n",
    "    categ = text_line[(text_line.find(\"category\") + 12) : (text_line.find('\\\"', text_line.find(\"category\") + 12))]\n",
    "    ide = text_line[(text_line.find(\"user_id\") + 11) : (text_line.find('\\\"', text_line.find(\"user_id\") + 11))]\n",
    "    purchases[ide] = categ\n",
    "\n",
    "print(dict(list(purchases.items())[1:3]))\n",
    "#purchases"
   ]
  },
  {
   "cell_type": "code",
   "execution_count": 6,
   "id": "3f426c8b-812e-4e5e-a2ce-f13a7f1fa25b",
   "metadata": {},
   "outputs": [],
   "source": [
    "file = open('visit_log.csv', 'r')\n",
    "exit_file = open('funnel.csv', 'w')\n",
    "\n",
    "row_from_file = \"no\"\n",
    "\n",
    "while(len(row_from_file) > 0):\n",
    "    row_from_file = file.readline()\n",
    "\n",
    "    for shto_to in purchases.keys():\n",
    "        if row_from_file[0 : (row_from_file.find(\",\"))] == shto_to:\n",
    "           row_from_file = row_from_file[0 : (len(row_from_file) - 1)]\n",
    "           row_from_file = row_from_file + \",\" + purchases.get(shto_to) + \"\\n\"\n",
    "           del(purchases[shto_to])\n",
    "           exit_file.write(row_from_file)\n",
    "           break \n",
    "\n",
    "\n",
    "\n",
    "exit_file.close()\n",
    "file.close()"
   ]
  }
 ],
 "metadata": {
  "kernelspec": {
   "display_name": "base",
   "language": "python",
   "name": "python3"
  },
  "language_info": {
   "codemirror_mode": {
    "name": "ipython",
    "version": 3
   },
   "file_extension": ".py",
   "mimetype": "text/x-python",
   "name": "python",
   "nbconvert_exporter": "python",
   "pygments_lexer": "ipython3",
   "version": "3.12.7"
  }
 },
 "nbformat": 4,
 "nbformat_minor": 5
}
