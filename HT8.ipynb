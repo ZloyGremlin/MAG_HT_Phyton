{
 "cells": [
  {
   "cell_type": "code",
   "execution_count": 106,
   "metadata": {},
   "outputs": [],
   "source": [
    "from pip._vendor import requests\n",
    "import json"
   ]
  },
  {
   "cell_type": "code",
   "execution_count": 107,
   "metadata": {},
   "outputs": [
    {
     "name": "stdout",
     "output_type": "stream",
     "text": [
      "Title: sunt aut facere repellat provident occaecati excepturi optio reprehenderit\n",
      "Body: quia et suscipit\n",
      "suscipit recusandae consequuntur expedita et cum\n",
      "reprehenderit molestiae ut ut quas totam\n",
      "nostrum rerum est autem sunt rem eveniet architecto\n",
      "\n",
      "Title: qui est esse\n",
      "Body: est rerum tempore vitae\n",
      "sequi sint nihil reprehenderit dolor beatae ea dolores neque\n",
      "fugiat blanditiis voluptate porro vel nihil molestiae ut reiciendis\n",
      "qui aperiam non debitis possimus qui neque nisi nulla\n",
      "\n",
      "Title: ea molestias quasi exercitationem repellat qui ipsa sit aut\n",
      "Body: et iusto sed quo iure\n",
      "voluptatem occaecati omnis eligendi aut ad\n",
      "voluptatem doloribus vel accusantium quis pariatur\n",
      "molestiae porro eius odio et labore et velit aut\n",
      "\n",
      "Title: eum et est occaecati\n",
      "Body: ullam et saepe reiciendis voluptatem adipisci\n",
      "sit amet autem assumenda provident rerum culpa\n",
      "quis hic commodi nesciunt rem tenetur doloremque ipsam iure\n",
      "quis sunt voluptatem rerum illo velit\n",
      "\n",
      "Title: nesciunt quas odio\n",
      "Body: repudiandae veniam quaerat sunt sed\n",
      "alias aut fugiat sit autem sed est\n",
      "voluptatem omnis possimus esse voluptatibus quis\n",
      "est aut tenetur dolor neque\n",
      "\n"
     ]
    }
   ],
   "source": [
    "for i in range(1, 6):\n",
    "    response = requests.get(\"https://jsonplaceholder.typicode.com/posts/\" + str(i))\n",
    "    tem = json.loads(response.text)\n",
    "    print(\"Title: \" + tem['title'] + \"\\nBody: \" + tem['body'] + \"\\n\")"
   ]
  },
  {
   "cell_type": "code",
   "execution_count": 110,
   "metadata": {},
   "outputs": [],
   "source": [
    "city_name = input()\n",
    "response = requests.get('https://api.openweathermap.org/data/2.5/weather?q=' + city_name + '&lang=ru&appid=c386b3e287aa6f09c06002401dec2329&units=metric')\n",
    "whether = json.loads(response.text)"
   ]
  },
  {
   "cell_type": "code",
   "execution_count": 111,
   "metadata": {},
   "outputs": [
    {
     "name": "stdout",
     "output_type": "stream",
     "text": [
      "Город: Москва\n",
      "Температура: 2.79\n",
      "Ощущается как: -1.78\n",
      "Погода: пасмурно\n"
     ]
    }
   ],
   "source": [
    "print(\"Город: \" + city_name + \"\\nТемпература: \" + str(whether['main']['temp']) + \"\\nОщущается как: \" + str(whether['main']['feels_like']))\n",
    "print(\"Погода: \" + str(whether['weather'][0]['description']))"
   ]
  }
 ],
 "metadata": {
  "kernelspec": {
   "display_name": "Python 3",
   "language": "python",
   "name": "python3"
  },
  "language_info": {
   "codemirror_mode": {
    "name": "ipython",
    "version": 3
   },
   "file_extension": ".py",
   "mimetype": "text/x-python",
   "name": "python",
   "nbconvert_exporter": "python",
   "pygments_lexer": "ipython3",
   "version": "3.12.5"
  }
 },
 "nbformat": 4,
 "nbformat_minor": 2
}
