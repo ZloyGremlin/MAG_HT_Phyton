{
 "cells": [
  {
   "cell_type": "code",
   "execution_count": 88,
   "id": "d77c2323-da80-45c5-8509-6c809e6ad180",
   "metadata": {},
   "outputs": [
    {
     "name": "stdout",
     "output_type": "stream",
     "text": [
      "55\n"
     ]
    }
   ],
   "source": [
    "def sum_distance(first_number, second_number):\n",
    "    first_number = int(first_number)\n",
    "    second_number = int(second_number)\n",
    "    \n",
    "    #сравнение двух входных значений между собой, меняем местами, если первое больше второго\n",
    "    if (first_number > second_number):\n",
    "        first_number, second_number = second_number, first_number\n",
    "    \n",
    "    sum = 0\n",
    "    while (first_number <= second_number):\n",
    "        sum += first_number\n",
    "        first_number = first_number + 1\n",
    "    return sum\n",
    "\n",
    "\n",
    "print(sum_distance(1,10))"
   ]
  },
  {
   "cell_type": "code",
   "execution_count": 126,
   "id": "84461d0b-0be5-40e7-bdf7-93224baa1b97",
   "metadata": {},
   "outputs": [
    {
     "name": "stdout",
     "output_type": "stream",
     "text": [
      "nelnelnel\n"
     ]
    }
   ],
   "source": [
    "def trim_and_repeat(str, offset = 0, repetitions = 1):\n",
    "    return str[offset:]*repetitions\n",
    "\n",
    "print(trim_and_repeat(\"kernel\", 3, 3))\n",
    "    "
   ]
  },
  {
   "cell_type": "code",
   "execution_count": null,
   "id": "9fd1c879-54b4-400d-aa3e-1a84bce2374e",
   "metadata": {},
   "outputs": [],
   "source": []
  }
 ],
 "metadata": {
  "kernelspec": {
   "display_name": "Python 3 (ipykernel)",
   "language": "python",
   "name": "python3"
  },
  "language_info": {
   "codemirror_mode": {
    "name": "ipython",
    "version": 3
   },
   "file_extension": ".py",
   "mimetype": "text/x-python",
   "name": "python",
   "nbconvert_exporter": "python",
   "pygments_lexer": "ipython3",
   "version": "3.12.7"
  }
 },
 "nbformat": 4,
 "nbformat_minor": 5
}
