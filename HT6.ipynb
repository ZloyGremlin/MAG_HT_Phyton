{
 "cells": [
  {
   "cell_type": "code",
   "execution_count": 128,
   "metadata": {},
   "outputs": [],
   "source": [
    "import datetime"
   ]
  },
  {
   "cell_type": "code",
   "execution_count": null,
   "metadata": {},
   "outputs": [],
   "source": [
    "class BankClient:\n",
    "    def __init__(self, name, start_bal):\n",
    "        self.name = name\n",
    "        self.start_bal = start_bal\n",
    "        self.bal = start_bal\n",
    "        self.hist = {}\n",
    "\n",
    "    def deposit(self, amount): #пополнение средств\n",
    "        self.bal += amount\n",
    "        if (datetime.datetime.now().strftime(\"%Y-%m-%d\") in self.hist.keys()): #проверка на наличие даты в словаре, если есть, добавляем запись\n",
    "            self.hist[datetime.datetime.now().strftime(\"%Y-%m-%d\")] += (\" | \" + datetime.datetime.now().strftime('%X') + \" added to deposit: \" + str(amount))\n",
    "        else: #если нет, создаем запись и добавляем историю\n",
    "            self.hist[datetime.datetime.now().strftime(\"%Y-%m-%d\")] = datetime.datetime.now().strftime('%X') + \" added to deposit: \" + str(amount)\n",
    "    \n",
    "    def withdraw(self, amount): #списание средств\n",
    "        if (self.bal >= amount): #проверка на наличие списываемой суммы на балансе\n",
    "            self.bal -= amount\n",
    "            if (datetime.datetime.now().strftime(\"%Y-%m-%d\") in self.hist.keys()): #проверка на наличие даты в словаре, если есть, добавляем запись\n",
    "                self.hist[datetime.datetime.now().strftime(\"%Y-%m-%d\")] += (\" | \" + datetime.datetime.now().strftime('%X') + \" withdraw: \" + str(amount))\n",
    "            else: #если нет, создаем запись и добавляем историю\n",
    "                self.hist[datetime.datetime.now().strftime(\"%Y-%m-%d\")] = datetime.datetime.now().strftime('%X') + \" withdraw: \" + str(amount)\n",
    "        else:\n",
    "            print(\"not enought money on the ballance\")"
   ]
  },
  {
   "cell_type": "code",
   "execution_count": null,
   "metadata": {},
   "outputs": [],
   "source": [
    "first = BankClient('Ivan', 100)"
   ]
  },
  {
   "cell_type": "code",
   "execution_count": 131,
   "metadata": {},
   "outputs": [],
   "source": [
    "first.withdraw(50.3)\n",
    "first.deposit(1000.5)\n",
    "first.withdraw(300.3)"
   ]
  },
  {
   "cell_type": "code",
   "execution_count": 132,
   "metadata": {},
   "outputs": [
    {
     "name": "stdout",
     "output_type": "stream",
     "text": [
      "Name - Ivan\n",
      "Ballance: 749.9000000000001\n",
      "{'2024-12-21': '18:55:11 withdraw: 50.3 | 18:55:11 added to deposit: 1000.5 | 18:55:11 withdraw: 300.3'}\n"
     ]
    }
   ],
   "source": [
    "print(\"Name - \" + first.name + \"\\nBallance: \" + str(first.bal))\n",
    "print(first.hist)"
   ]
  }
 ],
 "metadata": {
  "kernelspec": {
   "display_name": "base",
   "language": "python",
   "name": "python3"
  },
  "language_info": {
   "codemirror_mode": {
    "name": "ipython",
    "version": 3
   },
   "file_extension": ".py",
   "mimetype": "text/x-python",
   "name": "python",
   "nbconvert_exporter": "python",
   "pygments_lexer": "ipython3",
   "version": "3.12.7"
  }
 },
 "nbformat": 4,
 "nbformat_minor": 2
}
