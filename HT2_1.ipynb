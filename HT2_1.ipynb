{
 "cells": [
  {
   "cell_type": "code",
   "execution_count": 56,
   "id": "7d740c4c-f4fe-4e2c-af36-d1bb7bc7cbe4",
   "metadata": {},
   "outputs": [
    {
     "name": "stdout",
     "output_type": "stream",
     "text": [
      "t\n"
     ]
    }
   ],
   "source": [
    "word = \"testing\"\n",
    "output_char_num = int(len(word)/2)\n",
    "if (len(word)%2 == 0):\n",
    "    print(word[output_char_num - 1] + word[output_char_num]) \n",
    "    else: print(word[output_char_num])"
   ]
  },
  {
   "cell_type": "code",
   "execution_count": 103,
   "id": "33a97767-2836-4124-bf35-48d29d3cd9b0",
   "metadata": {},
   "outputs": [
    {
     "name": "stdout",
     "output_type": "stream",
     "text": [
      "Результат: \n",
      "Идеальные пары:\n",
      "Alex and Emma\n",
      "Arthur and Kate\n",
      "John and Kira\n",
      "Peter and Liza\n",
      "Richard and Trisha\n"
     ]
    }
   ],
   "source": [
    "boys = ['Peter', 'Alex', 'John', 'Arthur', 'Richard']\n",
    "girls = ['Kate', 'Liza', 'Kira', 'Emma', 'Trisha']\n",
    "\n",
    "print('Результат: ', end = '')\n",
    "if (len(boys) == len(girls)):\n",
    "    boys = sorted(boys)\n",
    "    girls = sorted(girls)\n",
    "    print('\\nИдеальные пары:')\n",
    "    for name in boys:\n",
    "        print(name + ' and ' + girls[boys.index(name)])\n",
    "else: print('Внимание, кто-то может остаться без пары!')"
   ]
  },
  {
   "cell_type": "code",
   "execution_count": null,
   "id": "474aaa7e-3a3d-4769-9ce9-45591a316f34",
   "metadata": {},
   "outputs": [],
   "source": []
  },
  {
   "cell_type": "code",
   "execution_count": null,
   "id": "6ef91e0e-dca4-4b24-be8d-8b338743d34f",
   "metadata": {},
   "outputs": [],
   "source": []
  }
 ],
 "metadata": {
  "kernelspec": {
   "display_name": "Python 3 (ipykernel)",
   "language": "python",
   "name": "python3"
  },
  "language_info": {
   "codemirror_mode": {
    "name": "ipython",
    "version": 3
   },
   "file_extension": ".py",
   "mimetype": "text/x-python",
   "name": "python",
   "nbconvert_exporter": "python",
   "pygments_lexer": "ipython3",
   "version": "3.12.7"
  }
 },
 "nbformat": 4,
 "nbformat_minor": 5
}
